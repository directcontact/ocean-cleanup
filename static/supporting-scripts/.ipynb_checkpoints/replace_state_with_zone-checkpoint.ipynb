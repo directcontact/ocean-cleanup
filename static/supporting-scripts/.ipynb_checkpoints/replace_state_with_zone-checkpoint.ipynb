{
 "cells": [
  {
   "cell_type": "code",
   "execution_count": 13,
   "metadata": {},
   "outputs": [],
   "source": [
    "#import modules\n",
    "import pandas as pd\n",
    "import numpy as np\n",
    "import matplotlib as plt\n",
    "import re\n"
   ]
  },
  {
   "cell_type": "code",
   "execution_count": 14,
   "metadata": {},
   "outputs": [],
   "source": [
    "#read csv\n",
    "oc = pd.read_csv(\"data/Data_Level5_BAH_OceanCleanup.0.0.3 Clean.csv\", low_memory = False)"
   ]
  },
  {
   "cell_type": "code",
   "execution_count": 15,
   "metadata": {},
   "outputs": [],
   "source": [
    "#test to see NAs in State\n",
    "test={}\n",
    "for item in oc[\"State\"]:\n",
    "    if type(item)== float:\n",
    "        if item not in test:\n",
    "            test[item]=0\n",
    "        else:\n",
    "            test[item]+=1\n",
    "            "
   ]
  },
  {
   "cell_type": "code",
   "execution_count": 16,
   "metadata": {},
   "outputs": [],
   "source": [
    "#put 0 for those values that are NA\n",
    "#look for the zone to get the state\n",
    "oc[\"State\"].fillna(0, inplace=True)\n",
    "oc[\"Zone\"].fillna(0,inplace=True)\n",
    "for index, row in oc.iterrows():\n",
    "    if row.State==0:\n",
    "        if row.Zone != 0:\n",
    "            sub = re.search('([A-Z{2}]+)(\\s\\d{5})?, USA$',str(row.Zone))\n",
    "            if sub is not None:\n",
    "                #row.State.replace(0,sub.group(1))\n",
    "                oc['State'][index]=sub.group(1)\n",
    "i_todrop=[]\n",
    "for index, row in oc.iterrows():\n",
    "    if type(row.State) == int:\n",
    "        i_todrop.append(index)\n",
    "\n",
    "            \n",
    "        "
   ]
  },
  {
   "cell_type": "code",
   "execution_count": 17,
   "metadata": {},
   "outputs": [],
   "source": [
    "#check to see if state still has 0s\n",
    "for index, row in oc.iterrows():\n",
    "    if type(row.State)==int:\n",
    "        print(row.Zone)"
   ]
  },
  {
   "cell_type": "code",
   "execution_count": 18,
   "metadata": {},
   "outputs": [],
   "source": [
    "#drop rows that has 0\n",
    "oc = oc.drop(i_todrop)"
   ]
  },
  {
   "cell_type": "code",
   "execution_count": 19,
   "metadata": {},
   "outputs": [],
   "source": [
    "#test for one last time\n",
    "for index, row in oc.iterrows():\n",
    "    if type(row.State)==int:\n",
    "        print(row.State)"
   ]
  },
  {
   "cell_type": "code",
   "execution_count": 20,
   "metadata": {},
   "outputs": [],
   "source": [
    "#standardize state foramts\n",
    "oc = oc.replace('AL', 'Alaska, USA')\n",
    "oc = oc.replace('CA', 'California, USA')\n",
    "oc = oc.replace('FL', 'Florida, USA')\n",
    "oc = oc.replace('LA', 'Louisiana, USA')\n",
    "oc = oc.replace('ME', 'Maine, USA')\n",
    "oc = oc.replace('NC', 'North Carolina, USA')\n",
    "oc = oc.replace('NJ', 'New Jersey, USA')\n",
    "oc = oc.replace('NY', 'New York, USA')\n",
    "oc = oc.replace('TX', 'Texas, USA')\n",
    "oc = oc.replace('VA', 'Virginia, USA')"
   ]
  },
  {
   "cell_type": "code",
   "execution_count": 21,
   "metadata": {},
   "outputs": [],
   "source": [
    "#export to csv \n",
    "oc.to_csv(\"data\\Data_Level5_BAH_OceanCleanup.final_version.csv\")"
   ]
  }
 ],
 "metadata": {
  "kernelspec": {
   "display_name": "Python 3",
   "language": "python",
   "name": "python3"
  },
  "language_info": {
   "codemirror_mode": {
    "name": "ipython",
    "version": 3
   },
   "file_extension": ".py",
   "mimetype": "text/x-python",
   "name": "python",
   "nbconvert_exporter": "python",
   "pygments_lexer": "ipython3",
   "version": "3.7.4"
  }
 },
 "nbformat": 4,
 "nbformat_minor": 2
}
